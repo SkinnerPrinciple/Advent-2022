{
 "cells": [
  {
   "cell_type": "markdown",
   "id": "135e9483-409a-45dd-ba59-1e2d57e868be",
   "metadata": {},
   "source": [
    "## Day 1 ##"
   ]
  },
  {
   "cell_type": "code",
   "execution_count": 1,
   "id": "90f1e053-c423-4f4a-af6d-cbd7186aa912",
   "metadata": {},
   "outputs": [],
   "source": [
    "import pandas as pd\n",
    "from pathlib import Path"
   ]
  },
  {
   "cell_type": "code",
   "execution_count": 2,
   "id": "24eb1add-bd88-4f83-a44c-73962abc0258",
   "metadata": {},
   "outputs": [],
   "source": [
    "Content = Path('Day1.txt').read_text()\n",
    "list_content = Content.split('\\n\\n')         # creates a list of items held by each elf\n",
    "Calorie_list = []\n",
    "for s in list_content:\n",
    "    Calorie_list.append(s.split('\\n'))      # creates a list of each item that each elf is holding\n",
    "\n",
    "int_Calorie_list = []                 #converts the list into lists of integers. \n",
    "for ele in Calorie_list: \n",
    "    dum = []\n",
    "    for num in ele:                   # Converts each list of items for the list of elves from text to integers.  \n",
    "        dum.append(int(num))\n",
    "    int_Calorie_list.append(dum)"
   ]
  },
  {
   "cell_type": "code",
   "execution_count": 3,
   "id": "773e1982-49cb-45da-93f6-7236564af716",
   "metadata": {},
   "outputs": [
    {
     "name": "stdout",
     "output_type": "stream",
     "text": [
      "235 72240\n"
     ]
    }
   ],
   "source": [
    "Elf_calorie_total = 0\n",
    "for INDEX,LIST in enumerate(int_Calorie_list): # cycles through the elves to find who is holding the most calories.\n",
    "    calories = sum(LIST)\n",
    "    if calories > Elf_calorie_total: \n",
    "        Elf_calorie_total = calories     # Updates the elf with the most calories. \n",
    "        Elf_number = INDEX\n",
    "        \n",
    "print(Elf_number, Elf_calorie_total)  # prints the elf with the most calories and how many calories they are holding. "
   ]
  },
  {
   "cell_type": "code",
   "execution_count": 4,
   "id": "ae230ea0-a6fb-4865-898a-e210a6598ceb",
   "metadata": {},
   "outputs": [
    {
     "name": "stdout",
     "output_type": "stream",
     "text": [
      "72240 69625 69092 210957\n"
     ]
    }
   ],
   "source": [
    "Elf1=0\n",
    "Elf2=0\n",
    "Elf3=0\n",
    "for INDEX,LIST in enumerate(int_Calorie_list): # cycles through the elves to find top 3 elves with most calories. \n",
    "    calories = sum(LIST)\n",
    "    if calories > Elf1:\n",
    "        Elf3 = Elf2                          # updates list if new elf has most calories.\n",
    "        Elf2 = Elf1\n",
    "        Elf1 = calories\n",
    "    elif calories>Elf2:                     # updates list if new elf has second most calories.\n",
    "        Elf3 = Elf2\n",
    "        Elf2 = calories\n",
    "    elif calories>Elf3:                   # updates list if new elf has third most calories. \n",
    "        Elf3 = calories\n",
    "        \n",
    "print(Elf1, Elf2, Elf3,Elf1+ Elf2+ Elf3) # prints the number of calories for each of the top 3 elves and the sum of their calories. "
   ]
  },
  {
   "cell_type": "markdown",
   "id": "8e5dcf7f-133a-4703-ad15-153d61777b1e",
   "metadata": {},
   "source": [
    "## Day 2 ##"
   ]
  },
  {
   "cell_type": "code",
   "execution_count": 31,
   "id": "e847c04c-eede-4b5b-9491-170de9a90481",
   "metadata": {},
   "outputs": [],
   "source": [
    "Content = Path('Day2.txt').read_text()\n",
    "RPS = Content.split('\\n')\n",
    "RPS1 = []\n",
    "for ele in RPS: \n",
    "    RPS1.append(ele.split(' '))  # edits input to be list of lists of moves and \"countermoves\"\n",
    "\n",
    "RPS_map = {'X':1, 'Y':2, 'Z':3} # map of points for the moves\n",
    "win_loss = {'W':6, 'D':3, 'L':0} # map of points for win loss draw."
   ]
  },
  {
   "cell_type": "code",
   "execution_count": 32,
   "id": "43bcc8bb-f2a6-423d-808b-225ff2ac13a9",
   "metadata": {},
   "outputs": [],
   "source": [
    "# Determines who wins the rock, paper, scissors match\n",
    "def Check_RPS(Opp, Me):\n",
    "    if((Opp=='A' and Me=='X') or (Opp=='B' and Me=='Y') or (Opp=='C' and Me=='Z')):\n",
    "        return 'D'\n",
    "    elif((Opp=='A' and Me=='Z') or (Opp == 'B' and Me == 'X') or (Opp=='C' and Me=='Y')):\n",
    "        return 'L'\n",
    "    elif((Opp=='A' and Me=='Y') or (Opp=='B' and Me=='Z') or (Opp=='C' and Me=='X')):\n",
    "        return 'W'"
   ]
  },
  {
   "cell_type": "code",
   "execution_count": 33,
   "id": "92bfdbc5-9900-49ff-a758-c273543be3cd",
   "metadata": {},
   "outputs": [],
   "source": [
    "score = 0\n",
    "for ele in RPS1:\n",
    "    score+=win_loss[Check_RPS(ele[0], ele[1])]+RPS_map[ele[1]]    #calculates score based on the previous maps of points awarded. "
   ]
  },
  {
   "cell_type": "code",
   "execution_count": 34,
   "id": "9427328a-5422-440d-9bf1-28d135bd2f0a",
   "metadata": {},
   "outputs": [
    {
     "name": "stdout",
     "output_type": "stream",
     "text": [
      "15632\n"
     ]
    }
   ],
   "source": [
    "print(score)"
   ]
  },
  {
   "cell_type": "code",
   "execution_count": 35,
   "id": "67c4d857-6bbe-4828-8cd7-bf324745a0b7",
   "metadata": {},
   "outputs": [],
   "source": [
    "win_loss = {'X':0, 'Y':3, 'Z':6}          # second part, second column of RPS1 is now whether to win lose or draw. New points map. \n",
    "RPS_map = {'A':1, 'B':2,'C':3}            # points awarded based on choice of rock, paper or scissors\n",
    "\n",
    "LOSS = {'A':'C', 'B':'A', 'C':'B'}       # map of what to choose in order to lose. \n",
    "WIN = {'A':'B', 'B':'C', 'C':'A'}       # map of what to choose in order to win. \n",
    "\n",
    "# New definiton of rock, paper, sciossors function \n",
    "def Check_RPS(Opp, Outcome):\n",
    "    if(Outcome=='X'):\n",
    "        return LOSS[Opp]\n",
    "    elif(Outcome=='Y'):\n",
    "        return Opp\n",
    "    elif(Outcome=='Z'):\n",
    "        return WIN[Opp]        "
   ]
  },
  {
   "cell_type": "code",
   "execution_count": 36,
   "id": "5f90e609-8076-4991-9680-04f57e9b9b44",
   "metadata": {},
   "outputs": [],
   "source": [
    "score = 0\n",
    "for ele in RPS1: \n",
    "    score+=win_loss[ele[1]]+RPS_map[Check_RPS(ele[0], ele[1])]  # calculates score based on selection and win status. "
   ]
  },
  {
   "cell_type": "code",
   "execution_count": 37,
   "id": "9efabf2d-d4c6-4517-8626-b64372fe6a92",
   "metadata": {},
   "outputs": [
    {
     "name": "stdout",
     "output_type": "stream",
     "text": [
      "14416\n"
     ]
    }
   ],
   "source": [
    "print(score)"
   ]
  },
  {
   "cell_type": "markdown",
   "id": "d680af22-6ac9-4e77-a52e-20dfe379b1db",
   "metadata": {},
   "source": [
    "## Day 3 ##"
   ]
  },
  {
   "cell_type": "code",
   "execution_count": 41,
   "id": "fd2e9580-ea1d-410c-8ecb-c259f303286b",
   "metadata": {},
   "outputs": [],
   "source": [
    "Content = Path('Day3.txt').read_text()\n",
    "Rucksack = Content.split()  # organizes elves rucksack contents into a list. "
   ]
  },
  {
   "cell_type": "code",
   "execution_count": 42,
   "id": "8d8fb84b-963e-432f-9e82-55eeb2f24e13",
   "metadata": {},
   "outputs": [],
   "source": [
    "# unnecessary \n",
    "Compartment = []\n",
    "for ele in Rucksack:                 # splits the string into a list of first half (first pouch) and second half (second pouch)\n",
    "    comp = len(ele)/2\n",
    "    Compartment.append([ele[:int(comp)],ele[int(comp):]])    "
   ]
  },
  {
   "cell_type": "code",
   "execution_count": 43,
   "id": "46d01e03-dab0-46f9-8dd4-01fe1c278bc4",
   "metadata": {},
   "outputs": [],
   "source": [
    "# finds and returns the first instance of overlap among the strings \n",
    "def find_element(str1,str2):\n",
    "    for ele in str1: \n",
    "        ind = str2.find(ele)\n",
    "        if ind != -1:\n",
    "            return ele    "
   ]
  },
  {
   "cell_type": "code",
   "execution_count": 44,
   "id": "6bc8561f-e7ba-4298-9f8d-a57f4b6dafa8",
   "metadata": {},
   "outputs": [],
   "source": [
    "sum = 0\n",
    "for ele in Compartment:     \n",
    "    snack = find_element(ele[0],ele[1])  \n",
    "    if snack.isupper():                    # finds the numeric value assigned to each letter and adds to the total sum\n",
    "        sum += ord(snack)-ord('A')+27\n",
    "    else:\n",
    "        sum+= ord(snack)-ord('a')+1"
   ]
  },
  {
   "cell_type": "code",
   "execution_count": 45,
   "id": "6cbd2a0c-8c14-41cf-af4a-5da4ebebfc2a",
   "metadata": {},
   "outputs": [
    {
     "name": "stdout",
     "output_type": "stream",
     "text": [
      "7742\n"
     ]
    }
   ],
   "source": [
    "print(sum)"
   ]
  },
  {
   "cell_type": "code",
   "execution_count": 47,
   "id": "754eb330-b2b8-42f4-8598-0d457bc5464a",
   "metadata": {},
   "outputs": [],
   "source": [
    "groups = []\n",
    "i=0\n",
    "while i < len(Rucksack):        # groups the elves into groups of 3 \n",
    "    groups.append([Rucksack[i],Rucksack[i+1],Rucksack[i+2]])\n",
    "    i+=3"
   ]
  },
  {
   "cell_type": "code",
   "execution_count": 48,
   "id": "a9a57f24-2f9d-4f38-8293-519859780852",
   "metadata": {},
   "outputs": [
    {
     "name": "stdout",
     "output_type": "stream",
     "text": [
      "2276\n"
     ]
    }
   ],
   "source": [
    "sum =0\n",
    "for ele in groups: \n",
    "    dum = []\n",
    "    for let in ele[0]:         # finds all letters common between the first two strings in the group and lists them in 'dum'\n",
    "        if (ele[1].find(let)!=-1):\n",
    "            dum.append(let)\n",
    "    badge = find_element(dum,ele[2])    # uses function to find the first element common between dum and the third string in the group. \n",
    "    if badge.isupper():\n",
    "        sum += ord(badge)-ord('A')+27   # finds the value associated with each letter and sums them. \n",
    "    else:\n",
    "        sum+= ord(badge)-ord('a')+1\n",
    "\n",
    "print(sum)    "
   ]
  },
  {
   "cell_type": "markdown",
   "id": "897ed87d-9238-48a1-8a1d-910a7f615a0f",
   "metadata": {},
   "source": [
    "## Day 4 ##"
   ]
  },
  {
   "cell_type": "code",
   "execution_count": 55,
   "id": "c741f85e-2f1f-402d-a575-6996c7f1fe75",
   "metadata": {},
   "outputs": [],
   "source": [
    "Content = Path('Day4.txt').read_text()\n",
    "pairs = Content.split('\\n')\n",
    "pairs1 = []\n",
    "#  formats the input into lists of intervals. \n",
    "for ele in pairs:\n",
    "    pairs1.append(ele.split(','))     \n",
    "\n",
    "pairs2 = []\n",
    "for ele in pairs1: \n",
    "    pairs2.append([ele[0].split('-'), ele[1].split('-')])\n",
    "\n",
    "for i in range(len(pairs2)):\n",
    "    for j in range(2): \n",
    "        for k in range(2):\n",
    "            pairs2[i][j][k] = int(pairs2[i][j][k])"
   ]
  },
  {
   "cell_type": "code",
   "execution_count": 56,
   "id": "88497658-6395-408d-b673-86a5cf27deb8",
   "metadata": {},
   "outputs": [
    {
     "data": {
      "text/plain": [
       "569"
      ]
     },
     "execution_count": 56,
     "metadata": {},
     "output_type": "execute_result"
    }
   ],
   "source": [
    "count = 0\n",
    "# determines if one interval completely contains the other interval. \n",
    "# checks if lower bound is smaller than other lower bound and upper bound is higher than other upper bound.\n",
    "for ele in pairs2: \n",
    "    if (((ele[0][0] <= ele[1][0]) and (ele[0][1] >= ele[1][1])) or ((ele[0][0] >= ele[1][0]) and (ele[0][1] <= ele[1][1]))):\n",
    "        count+=1\n",
    "\n",
    "count    "
   ]
  },
  {
   "cell_type": "code",
   "execution_count": 57,
   "id": "be206222-c76f-4ef3-b5b8-b55023537d80",
   "metadata": {},
   "outputs": [
    {
     "data": {
      "text/plain": [
       "936"
      ]
     },
     "execution_count": 57,
     "metadata": {},
     "output_type": "execute_result"
    }
   ],
   "source": [
    "count = 0\n",
    "# determines if there is any overlap between the intervals at all. \n",
    "# Checks if the lower bound is lower than the upper bound of other while simultaneously having the upper bound higher than the lower bound of other. \n",
    "for ele in pairs2: \n",
    "    if (((ele[0][0] <= ele[1][1]) and (ele[0][1] >= ele[1][0])) or ((ele[1][0] <= ele[0][1]) and (ele[1][1] >= ele[0][0]))):\n",
    "        count+=1\n",
    "\n",
    "count    "
   ]
  },
  {
   "cell_type": "markdown",
   "id": "fd300652-607f-42f1-9d2c-f15eda4ca90b",
   "metadata": {},
   "source": [
    "## Day 5 ##"
   ]
  },
  {
   "cell_type": "code",
   "execution_count": 58,
   "id": "f87ddbec-af2e-4aeb-ae33-181dea1739e1",
   "metadata": {},
   "outputs": [],
   "source": [
    "import re\n",
    "stacks = ['SLW','JTNQ','SCHFJ','TRMWNGB','TRLSDHQB','MJBVFHRL','DWRNJM','BZTFHNDJ','HLQNBFT']  # the stacks of boxes, rightmost is top\n",
    "moves = Path('Day5.txt').read_text() \n",
    "moves = moves.split('\\n')\n",
    "moves1 = []\n",
    "for ele in moves: \n",
    "    moves1.append(ele[5:]) # starting process of removing the words from thie input. "
   ]
  },
  {
   "cell_type": "code",
   "execution_count": 59,
   "id": "404f7d8f-3707-4446-87dd-5e8419e9b2a3",
   "metadata": {},
   "outputs": [],
   "source": [
    "# finishing the process of removing the words from the input. \n",
    "moves = []\n",
    "for ele in moves1: \n",
    "    moves.append(re.split(r' from | to ', ele))"
   ]
  },
  {
   "cell_type": "code",
   "execution_count": 60,
   "id": "aedfc46e-cd6f-4b5a-8b73-44d37850dbc7",
   "metadata": {},
   "outputs": [],
   "source": [
    "moves1 = []\n",
    "for ele in moves: \n",
    "    moves1.append([int(ele[0]),int(ele[1]),int(ele[2])])  # creates a list of the input values [total, start location, end location]\n",
    "        "
   ]
  },
  {
   "cell_type": "code",
   "execution_count": 61,
   "id": "6e518b6d-9063-492b-b2d9-038473b1508c",
   "metadata": {},
   "outputs": [],
   "source": [
    "# evaluating each move in the list of input. \n",
    "for ele in moves1: \n",
    "    # moves one at a time from the start location to the end location\n",
    "    for i in range(ele[0]):\n",
    "        top = stacks[ele[1]-1][-1]                 # saves the top box from the start location in dummy variable\n",
    "        stacks[ele[1]-1] = stacks[ele[1]-1][:-1]   # rewrites the stack at start location to exclude moved box\n",
    "        stacks[ele[2]-1] += top                    # concatonates the string at the end location to include the moved box."
   ]
  },
  {
   "cell_type": "code",
   "execution_count": 62,
   "id": "4b01377d-e895-4d4e-89d1-50d738bfd614",
   "metadata": {},
   "outputs": [
    {
     "data": {
      "text/plain": [
       "['WHBR',\n",
       " 'DJNJTRSQDWNNBWJJGL',\n",
       " 'VQMBJRZMLCQF',\n",
       " 'LTMN',\n",
       " 'BSTR',\n",
       " 'FT',\n",
       " 'HN',\n",
       " 'THLDHFSF',\n",
       " 'HB']"
      ]
     },
     "execution_count": 62,
     "metadata": {},
     "output_type": "execute_result"
    }
   ],
   "source": [
    "stacks"
   ]
  },
  {
   "cell_type": "code",
   "execution_count": 63,
   "id": "9a7e5bcd-ad0c-4d29-8dee-d1bb38219ed4",
   "metadata": {},
   "outputs": [],
   "source": [
    "stacks = ['SLW','JTNQ','SCHFJ','TRMWNGB','TRLSDHQB','MJBVFHRL','DWRNJM','BZTFHNDJ','HLQNBFT']"
   ]
  },
  {
   "cell_type": "code",
   "execution_count": 64,
   "id": "f88e1628-83a7-4adc-a924-b39cf14fef80",
   "metadata": {},
   "outputs": [],
   "source": [
    "# evaluates each move in the list of input, moving all boxes at once. \n",
    "for ele in moves1: \n",
    "    top = stacks[ele[1]-1][-ele[0]:]              # saves top 'total' number of boxes to be moved. (last x characters)\n",
    "    stacks[ele[1]-1] = stacks[ele[1]-1][:-ele[0]] # rewrites the string to exclude moved characters. \n",
    "    stacks[ele[2]-1] += top                       # concatonates the string in dummy variable to include moved characters. "
   ]
  },
  {
   "cell_type": "code",
   "execution_count": 65,
   "id": "cb0e7b72-5133-445c-a999-174b9bb1e547",
   "metadata": {},
   "outputs": [
    {
     "data": {
      "text/plain": [
       "['VHLM',\n",
       " 'NMMSWDRLWJNSRBNGRH',\n",
       " 'NBTQFTTDQJJQ',\n",
       " 'FBNT',\n",
       " 'SBDL',\n",
       " 'FJ',\n",
       " 'HR',\n",
       " 'TFZHWHJL',\n",
       " 'CB']"
      ]
     },
     "execution_count": 65,
     "metadata": {},
     "output_type": "execute_result"
    }
   ],
   "source": [
    "stacks"
   ]
  },
  {
   "cell_type": "markdown",
   "id": "c4a48cda-db4c-4948-8e83-1a87e0fb83a6",
   "metadata": {},
   "source": [
    "## Day 6 ##"
   ]
  },
  {
   "cell_type": "code",
   "execution_count": 85,
   "id": "f8e0a988-a293-4822-be45-b02b942621c0",
   "metadata": {},
   "outputs": [
    {
     "name": "stdout",
     "output_type": "stream",
     "text": [
      "1987\n"
     ]
    }
   ],
   "source": [
    "Input = Path('Day6.txt').read_text()\n",
    "for i in range(len(Input)):\n",
    "    word = Input[i:i+4]\n",
    "    flag = True\n",
    "    for j in range(len(word)-1): \n",
    "        if word[j+1:].find(word[j])!=-1: \n",
    "            flag = False\n",
    "            break\n",
    "    if(flag): \n",
    "        print(i+4)\n",
    "        break"
   ]
  },
  {
   "cell_type": "code",
   "execution_count": 86,
   "id": "61f92e76-dc0c-4dd4-98f6-ebd108ebd3fd",
   "metadata": {},
   "outputs": [
    {
     "name": "stdout",
     "output_type": "stream",
     "text": [
      "3059\n"
     ]
    }
   ],
   "source": [
    "for i in range(len(Input)):\n",
    "    word = Input[i:i+14]\n",
    "    flag = True\n",
    "    for j in range(len(word)-1): \n",
    "        if word[j+1:].find(word[j])!=-1: \n",
    "            flag = False\n",
    "            break\n",
    "    if(flag): \n",
    "        print(i+14)\n",
    "        break"
   ]
  },
  {
   "cell_type": "code",
   "execution_count": null,
   "id": "59966f3a-3f01-46ef-b1cb-5c2794d572a6",
   "metadata": {},
   "outputs": [],
   "source": []
  }
 ],
 "metadata": {
  "kernelspec": {
   "display_name": "Python 3 (ipykernel)",
   "language": "python",
   "name": "python3"
  },
  "language_info": {
   "codemirror_mode": {
    "name": "ipython",
    "version": 3
   },
   "file_extension": ".py",
   "mimetype": "text/x-python",
   "name": "python",
   "nbconvert_exporter": "python",
   "pygments_lexer": "ipython3",
   "version": "3.9.12"
  }
 },
 "nbformat": 4,
 "nbformat_minor": 5
}
